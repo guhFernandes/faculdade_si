{
  "nbformat": 4,
  "nbformat_minor": 0,
  "metadata": {
    "colab": {
      "provenance": []
    },
    "kernelspec": {
      "name": "python3",
      "display_name": "Python 3"
    },
    "language_info": {
      "name": "python"
    }
  },
  "cells": [
    {
      "cell_type": "markdown",
      "source": [
        "1. Média de uma lista: Escreva uma função chamada calcular_media que recebe uma lista de números como entrada e retorna a média desses números."
      ],
      "metadata": {
        "id": "eSX9koYOlkmy"
      }
    },
    {
      "cell_type": "code",
      "source": [
        "def calcular_media(lista):\n",
        "    if not lista:\n",
        "        return 0\n",
        "    soma = sum(lista)\n",
        "    media = soma / len(lista)\n",
        "    return media\n",
        "\n",
        "numeros = [1, 2, 3, 4, 5]\n",
        "media = calcular_media(numeros)\n",
        "print(\"A média dos números é:\", media)"
      ],
      "metadata": {
        "id": "OqM4nMxXj7T7"
      },
      "execution_count": null,
      "outputs": []
    },
    {
      "cell_type": "markdown",
      "source": [
        "2. Maior elemento em uma lista: Escreva uma função chamada encontrar_maior que recebe uma lista de números como entrada e retorna o maior elemento dessa lista."
      ],
      "metadata": {
        "id": "jO66xCaglqV8"
      }
    },
    {
      "cell_type": "code",
      "source": [
        "def encontrar_maior(lista):\n",
        "    if not lista:\n",
        "        return None\n",
        "    maior = lista[0]\n",
        "    for numero in lista:\n",
        "        if numero > maior:\n",
        "            maior = numero\n",
        "    return maior\n",
        "\n",
        "numeros = [10, 5, 8, 20, 3]\n",
        "maior_elemento = encontrar_maior(numeros)\n",
        "print(\"O maior elemento da lista é:\", maior_elemento)"
      ],
      "metadata": {
        "id": "rWwYw82lj72Q"
      },
      "execution_count": null,
      "outputs": []
    },
    {
      "cell_type": "markdown",
      "source": [
        "3. Inverter uma lista: Escreva uma função chamada inverter_lista que recebe uma lista como entrada e retorna uma nova lista com os elementos na ordem inversa."
      ],
      "metadata": {
        "id": "Crwjrt2-lvBA"
      }
    },
    {
      "cell_type": "code",
      "source": [
        "def inverter_lista(lista):\n",
        "    nova_lista = lista.copy()\n",
        "    nova_lista.reverse()\n",
        "    return nova_lista\n",
        "\n",
        "minha_lista = [1, 2, 3, 4, 5]\n",
        "lista_invertida = inverter_lista(minha_lista)\n",
        "print(\"Lista original:\", minha_lista)\n",
        "print(\"Lista invertida:\", lista_invertida)"
      ],
      "metadata": {
        "id": "UnpjgZuWj8Lx"
      },
      "execution_count": null,
      "outputs": []
    },
    {
      "cell_type": "markdown",
      "source": [
        "4. Remover duplicatas: Escreva uma função chamada remover_duplicatas que recebe uma lista como entrada e retorna uma nova lista sem elementos duplicados."
      ],
      "metadata": {
        "id": "M9Ococ8Rl3yl"
      }
    },
    {
      "cell_type": "code",
      "source": [
        "def remover_duplicatas(lista):\n",
        "    lista_sem_duplicatas = []\n",
        "    for elemento in lista:\n",
        "        if elemento not in lista_sem_duplicatas:\n",
        "            lista_sem_duplicatas.append(elemento)\n",
        "    return lista_sem_duplicatas\n",
        "\n",
        "minha_lista = [1, 2, 3, 3, 4, 4, 5]\n",
        "lista_sem_duplicatas = remover_duplicatas(minha_lista)\n",
        "print(\"Lista original:\", minha_lista)\n",
        "print(\"Lista sem duplicatas:\", lista_sem_duplicatas)"
      ],
      "metadata": {
        "id": "eZgSq-Oej8vL"
      },
      "execution_count": null,
      "outputs": []
    },
    {
      "cell_type": "markdown",
      "source": [
        "5. Ordenar lista: Escreva uma função chamada ordenar_lista que recebe uma lista como entrada e retorna uma nova lista com os elementos ordenados em ordem crescente."
      ],
      "metadata": {
        "id": "2yyg4n_Ml66o"
      }
    },
    {
      "cell_type": "code",
      "source": [
        "def ordenar_lista(lista):\n",
        "    return sorted(lista)\n",
        "\n",
        "minha_lista = [3, 1, 4, 1, 5, 9, 2, 6]\n",
        "lista_ordenada = ordenar_lista(minha_lista)\n",
        "print(\"Lista original:\", minha_lista)\n",
        "print(\"Lista ordenada:\", lista_ordenada)"
      ],
      "metadata": {
        "id": "XjZY4asCj9WV"
      },
      "execution_count": null,
      "outputs": []
    },
    {
      "cell_type": "markdown",
      "source": [
        "6. Contar ocorrências: Escreva uma função chamada contar_ocorrencias que recebe uma lista e um elemento como entrada, e retorna o número de vezes que o elemento aparece na lista."
      ],
      "metadata": {
        "id": "LIzmcUZ5l-W2"
      }
    },
    {
      "cell_type": "code",
      "source": [
        "def contar_ocorrencias(lista, elemento):\n",
        "    return lista.count(elemento)\n",
        "\n",
        "minha_lista = [1, 2, 3, 4, 2, 2, 5, 2]\n",
        "ocorrencias = contar_ocorrencias(minha_lista, 2)\n",
        "print(\"O número 2 aparece\", ocorrencias, \"vezes na lista.\")"
      ],
      "metadata": {
        "id": "bduzkuyjj9UE"
      },
      "execution_count": null,
      "outputs": []
    },
    {
      "cell_type": "markdown",
      "source": [
        "7. Filtrar números pares: Escreva uma função chamada filtrar_pares que recebe uma lista de números como entrada e retorna uma nova lista contendo apenas os números pares da lista original."
      ],
      "metadata": {
        "id": "JAeWSdsrmEzc"
      }
    },
    {
      "cell_type": "code",
      "source": [
        "def filtrar_pares(lista):\n",
        "    return [numero for numero in lista if numero % 2 == 0]\n",
        "\n",
        "minha_lista = [1, 2, 3, 4, 5, 6, 7, 8, 9, 10]\n",
        "pares = filtrar_pares(minha_lista)\n",
        "print(\"Números pares na lista:\", pares)"
      ],
      "metadata": {
        "id": "kW3AUf5Aj-bc"
      },
      "execution_count": null,
      "outputs": []
    },
    {
      "cell_type": "markdown",
      "source": [
        "8. Combinar listas: Escreva uma função chamada combinar_listas que recebe duas listas como entrada e retorna uma nova lista combinando os elementos das duas listas."
      ],
      "metadata": {
        "id": "czcnIyJjmINU"
      }
    },
    {
      "cell_type": "code",
      "source": [
        "def combinar_listas(lista1, lista2):\n",
        "    return lista1 + lista2\n",
        "\n",
        "lista1 = [1, 2, 3]\n",
        "lista2 = [4, 5, 6]\n",
        "lista_combinada = combinar_listas(lista1, lista2)\n",
        "print(\"Lista combinada:\", lista_combinada)"
      ],
      "metadata": {
        "id": "_ahmKq_hkAGH"
      },
      "execution_count": null,
      "outputs": []
    },
    {
      "cell_type": "markdown",
      "source": [
        "9. Soma de listas: Escreva uma função chamada soma_listas que recebe duas listas de igual tamanho de números como entrada e retorna uma nova lista contendo a soma dos elementos correspondentes das duas listas."
      ],
      "metadata": {
        "id": "TmKd0B9FmLcH"
      }
    },
    {
      "cell_type": "code",
      "source": [
        "def soma_listas(lista1, lista2):\n",
        "    return [x + y for x, y in zip(lista1, lista2)]\n",
        "\n",
        "lista1 = [1, 2, 3]\n",
        "lista2 = [4, 5, 6]\n",
        "soma = soma_listas(lista1, lista2)\n",
        "print(\"Soma das listas:\", soma)"
      ],
      "metadata": {
        "id": "skYgZGCAlWGc"
      },
      "execution_count": null,
      "outputs": []
    }
  ]
}