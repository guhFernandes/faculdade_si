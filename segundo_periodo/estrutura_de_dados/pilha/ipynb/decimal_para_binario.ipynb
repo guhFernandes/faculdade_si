{
 "cells": [
  {
   "cell_type": "code",
   "execution_count": 4,
   "metadata": {},
   "outputs": [
    {
     "name": "stdout",
     "output_type": "stream",
     "text": [
      "Binário -> 11001\n"
     ]
    }
   ],
   "source": [
    "class Node:\n",
    "    def __init__(self, data):\n",
    "        self.data = data\n",
    "        self.next = None\n",
    "\n",
    "class Stack:\n",
    "    def __init__(self):\n",
    "        self.top = None\n",
    "        self.size = 0\n",
    "\n",
    "    def is_empty(self):\n",
    "        return self.top is None\n",
    "\n",
    "    def push(self, data):\n",
    "        new_node = Node(data)\n",
    "        if self.is_empty():\n",
    "            self.top = new_node\n",
    "        else:\n",
    "            new_node.next = self.top\n",
    "            self.top = new_node\n",
    "        self.size += 1\n",
    "\n",
    "    def pop(self):\n",
    "        if self.is_empty():\n",
    "            print(\"Erro: Pilha vazia.\")\n",
    "            return None\n",
    "        else:\n",
    "            data = self.top.data\n",
    "            self.top = self.top.next\n",
    "            self.size -= 1\n",
    "            return data\n",
    "\n",
    "    def peek(self):\n",
    "        if self.is_empty():\n",
    "            print(\"Erro: Pilha vazia.\")\n",
    "            return None\n",
    "        else:\n",
    "            return self.top.data\n",
    "\n",
    "    def display(self):\n",
    "        current = self.top\n",
    "        if self.is_empty():\n",
    "            print(\"Pilha vazia.\")\n",
    "        else:\n",
    "            print(\"Elementos na pilha:\")\n",
    "            while current is not None:\n",
    "                print(current.data)\n",
    "                current = current.next\n",
    "\n",
    "\n",
    "def decimal_para_binario(data):\n",
    "    # var list_binario virou um objeto da class Stack()\n",
    "    list_binario = Stack()\n",
    "\n",
    "    # Add o resto da divisao no top da pilha\n",
    "    while data != 0:\n",
    "        if data % 2 == 0:\n",
    "            list_binario.push(0)\n",
    "        else:\n",
    "            list_binario.push(1)\n",
    "        # Faco o dado receber ele msm dividido por dois recebendo o valor inteiro\n",
    "        data //= 2\n",
    "    \n",
    "    binario = ''\n",
    "    while list_binario.size != 0:\n",
    "        # Trasformo o top em uma variavel str e removo ele do com o pop\n",
    "        str_numb = str(list_binario.pop())\n",
    "        # Concatena o top junto com a var binario para guardar o valor da conversao\n",
    "        binario += str_numb \n",
    "    \n",
    "    # Retorno a var binario para que possa ser manipolada \n",
    "    return binario\n",
    "\n",
    "\n",
    "numero_decimal = 25\n",
    "resultado_binario = decimal_para_binario(numero_decimal)\n",
    "print(f'Binário -> {resultado_binario}')"
   ]
  }
 ],
 "metadata": {
  "kernelspec": {
   "display_name": "Python 3",
   "language": "python",
   "name": "python3"
  },
  "language_info": {
   "codemirror_mode": {
    "name": "ipython",
    "version": 3
   },
   "file_extension": ".py",
   "mimetype": "text/x-python",
   "name": "python",
   "nbconvert_exporter": "python",
   "pygments_lexer": "ipython3",
   "version": "3.11.5"
  }
 },
 "nbformat": 4,
 "nbformat_minor": 2
}
